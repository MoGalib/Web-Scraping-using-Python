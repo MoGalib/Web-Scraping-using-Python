{
 "cells": [
  {
   "cell_type": "markdown",
   "id": "fed10c0c",
   "metadata": {},
   "source": [
    "### Web Scraping data from a website and storing it into a dictionary to create a table"
   ]
  },
  {
   "cell_type": "code",
   "execution_count": 1,
   "id": "191614be",
   "metadata": {},
   "outputs": [],
   "source": [
    "import requests"
   ]
  },
  {
   "cell_type": "code",
   "execution_count": 2,
   "id": "d3ca221d",
   "metadata": {},
   "outputs": [],
   "source": [
    "from bs4 import BeautifulSoup as bs"
   ]
  },
  {
   "cell_type": "code",
   "execution_count": 3,
   "id": "530b21ed",
   "metadata": {},
   "outputs": [],
   "source": [
    "url = \"https://finance.yahoo.com/quote/AAPL?p=AAPL\"\n",
    "response = requests.get(url)"
   ]
  },
  {
   "cell_type": "code",
   "execution_count": 4,
   "id": "9adde4d9",
   "metadata": {},
   "outputs": [],
   "source": [
    "t = response.text"
   ]
  },
  {
   "cell_type": "code",
   "execution_count": 5,
   "id": "2c64ea6d",
   "metadata": {},
   "outputs": [],
   "source": [
    "soup = bs(t,features = \"html.parser\")"
   ]
  },
  {
   "cell_type": "code",
   "execution_count": 6,
   "id": "b701306a",
   "metadata": {},
   "outputs": [],
   "source": [
    "finalTag = '1y Target Est'"
   ]
  },
  {
   "cell_type": "code",
   "execution_count": 7,
   "id": "20e3a79b",
   "metadata": {},
   "outputs": [
    {
     "name": "stdout",
     "output_type": "stream",
     "text": [
      "[<tr class=\"Bxz(bb) Bdbw(1px) Bdbs(s) Bdc($seperatorColor) H(36px)\" data-reactid=\"93\"><td class=\"C($primaryColor) W(51%)\" data-reactid=\"94\"><span data-reactid=\"95\">Previous Close</span></td><td class=\"Ta(end) Fw(600) Lh(14px)\" data-reactid=\"96\" data-test=\"PREV_CLOSE-value\"><span class=\"Trsdu(0.3s)\" data-reactid=\"97\">149.71</span></td></tr>, <tr class=\"Bxz(bb) Bdbw(1px) Bdbs(s) Bdc($seperatorColor) H(36px)\" data-reactid=\"98\"><td class=\"C($primaryColor) W(51%)\" data-reactid=\"99\"><span data-reactid=\"100\">Open</span></td><td class=\"Ta(end) Fw(600) Lh(14px)\" data-reactid=\"101\" data-test=\"OPEN-value\"><span class=\"Trsdu(0.3s)\" data-reactid=\"102\">149.45</span></td></tr>, <tr class=\"Bxz(bb) Bdbw(1px) Bdbs(s) Bdc($seperatorColor) H(36px)\" data-reactid=\"103\"><td class=\"C($primaryColor) W(51%)\" data-reactid=\"104\"><span data-reactid=\"105\">Bid</span></td><td class=\"Ta(end) Fw(600) Lh(14px)\" data-reactid=\"106\" data-test=\"BID-value\">0.00 x 1800</td></tr>, <tr class=\"Bxz(bb) Bdbw(1px) Bdbs(s) Bdc($seperatorColor) H(36px)\" data-reactid=\"107\"><td class=\"C($primaryColor) W(51%)\" data-reactid=\"108\"><span data-reactid=\"109\">Ask</span></td><td class=\"Ta(end) Fw(600) Lh(14px)\" data-reactid=\"110\" data-test=\"ASK-value\">0.00 x 1100</td></tr>, <tr class=\"Bxz(bb) Bdbw(1px) Bdbs(s) Bdc($seperatorColor) H(36px)\" data-reactid=\"111\"><td class=\"C($primaryColor) W(51%)\" data-reactid=\"112\"><span data-reactid=\"113\">Day's Range</span></td><td class=\"Ta(end) Fw(600) Lh(14px)\" data-reactid=\"114\" data-test=\"DAYS_RANGE-value\">149.15 - 150.86</td></tr>, <tr class=\"Bxz(bb) Bdbw(1px) Bdbs(s) Bdc($seperatorColor) H(36px)\" data-reactid=\"115\"><td class=\"C($primaryColor) W(51%)\" data-reactid=\"116\"><span data-reactid=\"117\">52 Week Range</span></td><td class=\"Ta(end) Fw(600) Lh(14px)\" data-reactid=\"118\" data-test=\"FIFTY_TWO_WK_RANGE-value\">103.10 - 151.68</td></tr>, <tr class=\"Bxz(bb) Bdbw(1px) Bdbs(s) Bdc($seperatorColor) H(36px)\" data-reactid=\"119\"><td class=\"C($primaryColor) W(51%)\" data-reactid=\"120\"><span data-reactid=\"121\">Volume</span></td><td class=\"Ta(end) Fw(600) Lh(14px)\" data-reactid=\"122\" data-test=\"TD_VOLUME-value\"><span class=\"Trsdu(0.3s)\" data-reactid=\"123\">48,606,428</span></td></tr>, <tr class=\"Bxz(bb) Bdbw(1px) Bdbs(s) Bdc($seperatorColor) H(36px) Bdbw(0)!\" data-reactid=\"124\"><td class=\"C($primaryColor) W(51%)\" data-reactid=\"125\"><span data-reactid=\"126\">Avg. Volume</span></td><td class=\"Ta(end) Fw(600) Lh(14px)\" data-reactid=\"127\" data-test=\"AVERAGE_VOLUME_3MONTH-value\"><span class=\"Trsdu(0.3s)\" data-reactid=\"128\">77,642,960</span></td></tr>, <tr class=\"Bxz(bb) Bdbw(1px) Bdbs(s) Bdc($seperatorColor) H(36px)\" data-reactid=\"132\"><td class=\"C($primaryColor) W(51%)\" data-reactid=\"133\"><span data-reactid=\"134\">Market Cap</span></td><td class=\"Ta(end) Fw(600) Lh(14px)\" data-reactid=\"135\" data-test=\"MARKET_CAP-value\"><span class=\"Trsdu(0.3s)\" data-reactid=\"136\">2.473T</span></td></tr>, <tr class=\"Bxz(bb) Bdbw(1px) Bdbs(s) Bdc($seperatorColor) H(36px)\" data-reactid=\"137\"><td class=\"C($primaryColor) W(51%)\" data-reactid=\"138\"><span data-reactid=\"139\">Beta (5Y Monthly)</span></td><td class=\"Ta(end) Fw(600) Lh(14px)\" data-reactid=\"140\" data-test=\"BETA_5Y-value\"><span class=\"Trsdu(0.3s)\" data-reactid=\"141\">1.20</span></td></tr>, <tr class=\"Bxz(bb) Bdbw(1px) Bdbs(s) Bdc($seperatorColor) H(36px)\" data-reactid=\"142\"><td class=\"C($primaryColor) W(51%)\" data-reactid=\"143\"><span data-reactid=\"144\">PE Ratio (TTM)</span></td><td class=\"Ta(end) Fw(600) Lh(14px)\" data-reactid=\"145\" data-test=\"PE_RATIO-value\"><span class=\"Trsdu(0.3s)\" data-reactid=\"146\">29.29</span></td></tr>, <tr class=\"Bxz(bb) Bdbw(1px) Bdbs(s) Bdc($seperatorColor) H(36px)\" data-reactid=\"147\"><td class=\"C($primaryColor) W(51%)\" data-reactid=\"148\"><span data-reactid=\"149\">EPS (TTM)</span></td><td class=\"Ta(end) Fw(600) Lh(14px)\" data-reactid=\"150\" data-test=\"EPS_RATIO-value\"><span class=\"Trsdu(0.3s)\" data-reactid=\"151\">5.11</span></td></tr>, <tr class=\"Bxz(bb) Bdbw(1px) Bdbs(s) Bdc($seperatorColor) H(36px)\" data-reactid=\"152\"><td class=\"C($primaryColor) W(51%)\" data-reactid=\"153\"><span data-reactid=\"154\">Earnings Date</span></td><td class=\"Ta(end) Fw(600) Lh(14px)\" data-reactid=\"155\" data-test=\"EARNINGS_DATE-value\"><span data-reactid=\"156\">Oct 27, 2021</span><!-- react-text: 157 --> - <!-- /react-text --><span data-reactid=\"158\">Nov 01, 2021</span></td></tr>, <tr class=\"Bxz(bb) Bdbw(1px) Bdbs(s) Bdc($seperatorColor) H(36px)\" data-reactid=\"159\"><td class=\"C($primaryColor) W(51%)\" data-reactid=\"160\"><span data-reactid=\"161\">Forward Dividend &amp; Yield</span></td><td class=\"Ta(end) Fw(600) Lh(14px)\" data-reactid=\"162\" data-test=\"DIVIDEND_AND_YIELD-value\">0.88 (0.59%)</td></tr>, <tr class=\"Bxz(bb) Bdbw(1px) Bdbs(s) Bdc($seperatorColor) H(36px)\" data-reactid=\"163\"><td class=\"C($primaryColor) W(51%)\" data-reactid=\"164\"><span data-reactid=\"165\">Ex-Dividend Date</span></td><td class=\"Ta(end) Fw(600) Lh(14px)\" data-reactid=\"166\" data-test=\"EX_DIVIDEND_DATE-value\"><span data-reactid=\"167\">Aug 06, 2021</span></td></tr>, <tr class=\"Bxz(bb) Bdbw(1px) Bdbs(s) Bdc($seperatorColor) H(36px) Bdbw(0)!\" data-reactid=\"168\"><td class=\"C($primaryColor) W(51%)\" data-reactid=\"169\"><span data-reactid=\"170\">1y Target Est</span></td><td class=\"Ta(end) Fw(600) Lh(14px)\" data-reactid=\"171\" data-test=\"ONE_YEAR_TARGET_PRICE-value\"><span class=\"Trsdu(0.3s)\" data-reactid=\"172\">165.87</span></td></tr>, <tr class=\"C($tertiaryColor) BdB Bxz(bb) Bdc($seperatorColor)\" data-reactid=\"8\"><th class=\"Whs(nw) Py(6px) Ta(start) Fz(xs) Va(m) Py(5px) Fw(400) Ta(start) Pend(10px)\" data-reactid=\"9\"><span data-reactid=\"10\">Symbol</span></th><th class=\"Whs(nw) Ta(end) Pstart(10px) Py(6px) Fz(xs) Va(m) Py(5px) Fw(400)\" data-reactid=\"11\"><span data-reactid=\"12\">Last Price</span></th><th class=\"Whs(nw) Ta(end) Pstart(10px) Py(6px) Fz(xs) Va(m) Py(5px) Fw(400)\" data-reactid=\"13\"><span data-reactid=\"14\">Change</span></th><th class=\"Whs(nw) Ta(end) Pstart(10px) Py(6px) Fz(xs) Va(m) Py(5px) Fw(400)\" data-reactid=\"15\"><span data-reactid=\"16\">% Change</span></th></tr>, <tr class=\"dt-row Bgc($hoverBgColor):h BdB Bdbc($seperatorColor) H(44px)\" data-reactid=\"18\"><td class=\"Va(t) Fz(14px) Whs(nw) Py(6px) Ta(start) Start(0) Pend(10px)\" data-reactid=\"19\"><a class=\"Fw(b) Ell D(b) C($linkColor)\" data-reactid=\"20\" href=\"/quote/AMZN?p=AMZN\" title=\"Amazon.com, Inc.\">AMZN</a><p class=\"Fz(xs) Pt(2px) M(0) C($tertiaryColor) Pos(a) Fw(400)! Ell Maw(220px)\" data-reactid=\"21\" title=\"Amazon.com, Inc.\">Amazon.com, Inc.</p></td><td class=\"Va(t) Fz(14px) Whs(nw) Ta(end) Pstart(10px) Py(6px)\" data-reactid=\"22\"><span class=\"Trsdu(0.3s) Fw(500)\" data-reactid=\"23\">3,305.78</span></td><td class=\"Va(t) Fz(14px) Whs(nw) Ta(end) Pstart(10px) Py(6px)\" data-reactid=\"24\"><span class=\"Trsdu(0.3s) Fw(500) C($positiveColor)\" data-reactid=\"25\">+39.91</span></td><td class=\"Va(t) Fz(14px) Whs(nw) Ta(end) Pstart(10px) Py(6px)\" data-reactid=\"26\"><span class=\"Trsdu(0.3s) Fw(500) C($positiveColor)\" data-reactid=\"27\">+1.22%</span></td></tr>, <tr class=\"dt-row Bgc($hoverBgColor):h BdB Bdbc($seperatorColor) H(44px)\" data-reactid=\"28\"><td class=\"Va(t) Fz(14px) Whs(nw) Py(6px) Ta(start) Start(0) Pend(10px)\" data-reactid=\"29\"><a class=\"Fw(b) Ell D(b) C($linkColor)\" data-reactid=\"30\" href=\"/quote/TSLA?p=TSLA\" title=\"Tesla, Inc.\">TSLA</a><p class=\"Fz(xs) Pt(2px) M(0) C($tertiaryColor) Pos(a) Fw(400)! Ell Maw(220px)\" data-reactid=\"31\" title=\"Tesla, Inc.\">Tesla, Inc.</p></td><td class=\"Va(t) Fz(14px) Whs(nw) Ta(end) Pstart(10px) Py(6px)\" data-reactid=\"32\"><span class=\"Trsdu(0.3s) Fw(500)\" data-reactid=\"33\">708.49</span></td><td class=\"Va(t) Fz(14px) Whs(nw) Ta(end) Pstart(10px) Py(6px)\" data-reactid=\"34\"><span class=\"Trsdu(0.3s) Fw(500) C($positiveColor)\" data-reactid=\"35\">+2.19</span></td><td class=\"Va(t) Fz(14px) Whs(nw) Ta(end) Pstart(10px) Py(6px)\" data-reactid=\"36\"><span class=\"Trsdu(0.3s) Fw(500) C($positiveColor)\" data-reactid=\"37\">+0.31%</span></td></tr>, <tr class=\"dt-row Bgc($hoverBgColor):h BdB Bdbc($seperatorColor) H(44px)\" data-reactid=\"38\"><td class=\"Va(t) Fz(14px) Whs(nw) Py(6px) Ta(start) Start(0) Pend(10px)\" data-reactid=\"39\"><a class=\"Fw(b) Ell D(b) C($linkColor)\" data-reactid=\"40\" href=\"/quote/FB?p=FB\" title=\"Facebook, Inc.\">FB</a><p class=\"Fz(xs) Pt(2px) M(0) C($tertiaryColor) Pos(a) Fw(400)! Ell Maw(220px)\" data-reactid=\"41\" title=\"Facebook, Inc.\">Facebook, Inc.</p></td><td class=\"Va(t) Fz(14px) Whs(nw) Ta(end) Pstart(10px) Py(6px)\" data-reactid=\"42\"><span class=\"Trsdu(0.3s) Fw(500)\" data-reactid=\"43\">365.51</span></td><td class=\"Va(t) Fz(14px) Whs(nw) Ta(end) Pstart(10px) Py(6px)\" data-reactid=\"44\"><span class=\"Trsdu(0.3s) Fw(500) C($positiveColor)\" data-reactid=\"45\">+2.16</span></td><td class=\"Va(t) Fz(14px) Whs(nw) Ta(end) Pstart(10px) Py(6px)\" data-reactid=\"46\"><span class=\"Trsdu(0.3s) Fw(500) C($positiveColor)\" data-reactid=\"47\">+0.59%</span></td></tr>, <tr class=\"dt-row Bgc($hoverBgColor):h BdB Bdbc($seperatorColor) H(44px)\" data-reactid=\"48\"><td class=\"Va(t) Fz(14px) Whs(nw) Py(6px) Ta(start) Start(0) Pend(10px)\" data-reactid=\"49\"><a class=\"Fw(b) Ell D(b) C($linkColor)\" data-reactid=\"50\" href=\"/quote/GOOG?p=GOOG\" title=\"Alphabet Inc.\">GOOG</a><p class=\"Fz(xs) Pt(2px) M(0) C($tertiaryColor) Pos(a) Fw(400)! Ell Maw(220px)\" data-reactid=\"51\" title=\"Alphabet Inc.\">Alphabet Inc.</p></td><td class=\"Va(t) Fz(14px) Whs(nw) Ta(end) Pstart(10px) Py(6px)\" data-reactid=\"52\"><span class=\"Trsdu(0.3s) Fw(500)\" data-reactid=\"53\">2,847.97</span></td><td class=\"Va(t) Fz(14px) Whs(nw) Ta(end) Pstart(10px) Py(6px)\" data-reactid=\"54\"><span class=\"Trsdu(0.3s) Fw(500) C($positiveColor)\" data-reactid=\"55\">+25.98</span></td><td class=\"Va(t) Fz(14px) Whs(nw) Ta(end) Pstart(10px) Py(6px)\" data-reactid=\"56\"><span class=\"Trsdu(0.3s) Fw(500) C($positiveColor)\" data-reactid=\"57\">+0.92%</span></td></tr>, <tr class=\"dt-row Bgc($hoverBgColor):h BdB Bdbc($seperatorColor) H(44px)\" data-reactid=\"58\"><td class=\"Va(t) Fz(14px) Whs(nw) Py(6px) Ta(start) Start(0) Pend(10px)\" data-reactid=\"59\"><a class=\"Fw(b) Ell D(b) C($linkColor)\" data-reactid=\"60\" href=\"/quote/NFLX?p=NFLX\" title=\"Netflix, Inc.\">NFLX</a><p class=\"Fz(xs) Pt(2px) M(0) C($tertiaryColor) Pos(a) Fw(400)! Ell Maw(220px)\" data-reactid=\"61\" title=\"Netflix, Inc.\">Netflix, Inc.</p></td><td class=\"Va(t) Fz(14px) Whs(nw) Ta(end) Pstart(10px) Py(6px)\" data-reactid=\"62\"><span class=\"Trsdu(0.3s) Fw(500)\" data-reactid=\"63\">553.41</span></td><td class=\"Va(t) Fz(14px) Whs(nw) Ta(end) Pstart(10px) Py(6px)\" data-reactid=\"64\"><span class=\"Trsdu(0.3s) Fw(500) C($positiveColor)\" data-reactid=\"65\">+0.08</span></td><td class=\"Va(t) Fz(14px) Whs(nw) Ta(end) Pstart(10px) Py(6px)\" data-reactid=\"66\"><span class=\"Trsdu(0.3s) Fw(500) C($positiveColor)\" data-reactid=\"67\">+0.01%</span></td></tr>, <tr class=\"Bdc($seperatorColor) Bxz(bb) H(50px) BdT\" data-reactid=\"11\" tabindex=\"1\"><td class=\"W(10px) Ta(c) Fw(500) Ta(start) Pend(6px) Bxz(bb)\" data-reactid=\"12\"><span class=\"Icon-Fp2 undefined\" data-reactid=\"13\"></span></td><td class=\"W(70px) Pend(12px) Fw(500) Bxz(bb)\" data-reactid=\"14\"><span class=\"\" data-reactid=\"15\"><span data-reactid=\"16\">Maintains</span></span></td><td class=\"C($secondaryColor)\" data-reactid=\"17\"><!-- react-text: 18 -->Loop Capital<!-- /react-text --><!-- react-text: 19 -->: <!-- /react-text --><!-- react-text: 20 --> to Buy<!-- /react-text --></td><td class=\"Ta(end) C($tertiaryColor) Fz(xs)\" data-reactid=\"21\"><span data-reactid=\"22\">7/28/2021</span></td></tr>, <tr class=\"Bdc($seperatorColor) Bxz(bb) H(50px) BdT\" data-reactid=\"23\" tabindex=\"2\"><td class=\"W(10px) Ta(c) Fw(500) Ta(start) Pend(6px) Bxz(bb)\" data-reactid=\"24\"><span class=\"Icon-Fp2 undefined\" data-reactid=\"25\"></span></td><td class=\"W(70px) Pend(12px) Fw(500) Bxz(bb)\" data-reactid=\"26\"><span class=\"\" data-reactid=\"27\"><span data-reactid=\"28\">Maintains</span></span></td><td class=\"C($secondaryColor)\" data-reactid=\"29\"><!-- react-text: 30 -->Deutsche Bank<!-- /react-text --><!-- react-text: 31 -->: <!-- /react-text --><!-- react-text: 32 --> to Buy<!-- /react-text --></td><td class=\"Ta(end) C($tertiaryColor) Fz(xs)\" data-reactid=\"33\"><span data-reactid=\"34\">7/28/2021</span></td></tr>, <tr class=\"Bdc($seperatorColor) Bxz(bb) H(50px) BdT\" data-reactid=\"35\" tabindex=\"3\"><td class=\"W(10px) Ta(c) Fw(500) Ta(start) Pend(6px) Bxz(bb)\" data-reactid=\"36\"><span class=\"Icon-Fp2 undefined\" data-reactid=\"37\"></span></td><td class=\"W(70px) Pend(12px) Fw(500) Bxz(bb)\" data-reactid=\"38\"><span class=\"\" data-reactid=\"39\"><span data-reactid=\"40\">Maintains</span></span></td><td class=\"C($secondaryColor)\" data-reactid=\"41\"><!-- react-text: 42 -->Piper Sandler<!-- /react-text --><!-- react-text: 43 -->: <!-- /react-text --><!-- react-text: 44 --> to Overweight<!-- /react-text --></td><td class=\"Ta(end) C($tertiaryColor) Fz(xs)\" data-reactid=\"45\"><span data-reactid=\"46\">7/28/2021</span></td></tr>, <tr class=\"Bdc($seperatorColor) Bxz(bb) H(50px) BdT\" data-reactid=\"47\" tabindex=\"4\"><td class=\"W(10px) Ta(c) Fw(500) Ta(start) Pend(6px) Bxz(bb)\" data-reactid=\"48\"><span class=\"Icon-Fp2 undefined\" data-reactid=\"49\"></span></td><td class=\"W(70px) Pend(12px) Fw(500) Bxz(bb)\" data-reactid=\"50\"><span class=\"\" data-reactid=\"51\"><span data-reactid=\"52\">Maintains</span></span></td><td class=\"C($secondaryColor)\" data-reactid=\"53\"><!-- react-text: 54 -->Canaccord Genuity<!-- /react-text --><!-- react-text: 55 -->: <!-- /react-text --><!-- react-text: 56 --> to Buy<!-- /react-text --></td><td class=\"Ta(end) C($tertiaryColor) Fz(xs)\" data-reactid=\"57\"><span data-reactid=\"58\">7/28/2021</span></td></tr>, <tr class=\"Bdc($seperatorColor) Bxz(bb) H(50px) BdT\" data-reactid=\"59\" tabindex=\"5\"><td class=\"W(10px) Ta(c) Fw(500) Ta(start) Pend(6px) Bxz(bb)\" data-reactid=\"60\"><span class=\"Icon-Fp2 undefined\" data-reactid=\"61\"></span></td><td class=\"W(70px) Pend(12px) Fw(500) Bxz(bb)\" data-reactid=\"62\"><span class=\"\" data-reactid=\"63\"><span data-reactid=\"64\">Maintains</span></span></td><td class=\"C($secondaryColor)\" data-reactid=\"65\"><!-- react-text: 66 -->Wells Fargo<!-- /react-text --><!-- react-text: 67 -->: <!-- /react-text --><!-- react-text: 68 --> to Overweight<!-- /react-text --></td><td class=\"Ta(end) C($tertiaryColor) Fz(xs)\" data-reactid=\"69\"><span data-reactid=\"70\">7/28/2021</span></td></tr>, <tr class=\"Bdc($seperatorColor) Bxz(bb) H(50px) BdY\" data-reactid=\"71\" tabindex=\"6\"><td class=\"W(10px) Ta(c) Fw(500) Ta(start) Pend(6px) Bxz(bb)\" data-reactid=\"72\"><span class=\"Icon-Fp2 undefined\" data-reactid=\"73\"></span></td><td class=\"W(70px) Pend(12px) Fw(500) Bxz(bb)\" data-reactid=\"74\"><span class=\"\" data-reactid=\"75\"><span data-reactid=\"76\">Maintains</span></span></td><td class=\"C($secondaryColor)\" data-reactid=\"77\"><!-- react-text: 78 -->Morgan Stanley<!-- /react-text --><!-- react-text: 79 -->: <!-- /react-text --><!-- react-text: 80 --> to Overweight<!-- /react-text --></td><td class=\"Ta(end) C($tertiaryColor) Fz(xs)\" data-reactid=\"81\"><span data-reactid=\"82\">7/28/2021</span></td></tr>]\n"
     ]
    }
   ],
   "source": [
    "trs = soup.find_all(\"tr\")\n",
    "print(trs)"
   ]
  },
  {
   "cell_type": "code",
   "execution_count": 8,
   "id": "71da695a",
   "metadata": {},
   "outputs": [
    {
     "name": "stdout",
     "output_type": "stream",
     "text": [
      "<tr class=\"Bxz(bb) Bdbw(1px) Bdbs(s) Bdc($seperatorColor) H(36px)\" data-reactid=\"93\"><td class=\"C($primaryColor) W(51%)\" data-reactid=\"94\"><span data-reactid=\"95\">Previous Close</span></td><td class=\"Ta(end) Fw(600) Lh(14px)\" data-reactid=\"96\" data-test=\"PREV_CLOSE-value\"><span class=\"Trsdu(0.3s)\" data-reactid=\"97\">149.71</span></td></tr>\n"
     ]
    }
   ],
   "source": [
    "print(trs[0])"
   ]
  },
  {
   "cell_type": "code",
   "execution_count": 9,
   "id": "3b74fe80",
   "metadata": {},
   "outputs": [
    {
     "name": "stdout",
     "output_type": "stream",
     "text": [
      "<td class=\"C($primaryColor) W(51%)\" data-reactid=\"94\"><span data-reactid=\"95\">Previous Close</span></td>\n"
     ]
    }
   ],
   "source": [
    "print(trs[0].contents[0])"
   ]
  },
  {
   "cell_type": "code",
   "execution_count": 10,
   "id": "3004d717",
   "metadata": {},
   "outputs": [
    {
     "name": "stdout",
     "output_type": "stream",
     "text": [
      "Previous Close\n",
      "149.71\n"
     ]
    }
   ],
   "source": [
    "print(trs[0].contents[0].text)\n",
    "print(trs[0].contents[1].text)"
   ]
  },
  {
   "cell_type": "code",
   "execution_count": 11,
   "id": "7a0ba03b",
   "metadata": {},
   "outputs": [],
   "source": [
    "a = [] #names\n",
    "b = [] #values\n",
    "nameVal = {} #dictionary"
   ]
  },
  {
   "cell_type": "code",
   "execution_count": 12,
   "id": "7e51ad79",
   "metadata": {},
   "outputs": [
    {
     "name": "stdout",
     "output_type": "stream",
     "text": [
      "['Previous Close', 'Open', 'Bid', 'Ask', \"Day's Range\", '52 Week Range', 'Volume', 'Avg. Volume', 'Market Cap', 'Beta (5Y Monthly)', 'PE Ratio (TTM)', 'EPS (TTM)', 'Earnings Date', 'Forward Dividend & Yield', 'Ex-Dividend Date', '1y Target Est']\n",
      "['149.71', '149.45', '0.00 x 1800', '0.00 x 1100', '149.15 - 150.86', '103.10 - 151.68', '48,606,428', '77,642,960', '2.473T', '1.20', '29.29', '5.11', 'Oct 27, 2021 - Nov 01, 2021', '0.88 (0.59%)', 'Aug 06, 2021', '165.87']\n",
      "{'Previous Close': '149.71', 'Open': '149.45', 'Bid': '0.00 x 1800', 'Ask': '0.00 x 1100', \"Day's Range\": '149.15 - 150.86', '52 Week Range': '103.10 - 151.68', 'Volume': '48,606,428', 'Avg. Volume': '77,642,960', 'Market Cap': '2.473T', 'Beta (5Y Monthly)': '1.20', 'PE Ratio (TTM)': '29.29', 'EPS (TTM)': '5.11', 'Earnings Date': 'Oct 27, 2021 - Nov 01, 2021', 'Forward Dividend & Yield': '0.88 (0.59%)', 'Ex-Dividend Date': 'Aug 06, 2021', '1y Target Est': '165.87'}\n"
     ]
    }
   ],
   "source": [
    "for i in range(len(trs)):\n",
    "    name = trs[i].contents[0].text\n",
    "    a.append(name)\n",
    "    val = trs[i].contents[1].text\n",
    "    b.append(val)\n",
    "    nameVal[name] = val\n",
    "    if (name) == finalTag:\n",
    "        break\n",
    "print(a)            \n",
    "print(b) \n",
    "print(nameVal)"
   ]
  },
  {
   "cell_type": "code",
   "execution_count": null,
   "id": "9f930237",
   "metadata": {},
   "outputs": [],
   "source": [
    "\n",
    "\n"
   ]
  },
  {
   "cell_type": "code",
   "execution_count": null,
   "id": "5431bda9",
   "metadata": {},
   "outputs": [],
   "source": []
  }
 ],
 "metadata": {
  "kernelspec": {
   "display_name": "Python 3 (ipykernel)",
   "language": "python",
   "name": "python3"
  },
  "language_info": {
   "codemirror_mode": {
    "name": "ipython",
    "version": 3
   },
   "file_extension": ".py",
   "mimetype": "text/x-python",
   "name": "python",
   "nbconvert_exporter": "python",
   "pygments_lexer": "ipython3",
   "version": "3.9.2"
  }
 },
 "nbformat": 4,
 "nbformat_minor": 5
}
